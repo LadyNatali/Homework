{
  "nbformat": 4,
  "nbformat_minor": 0,
  "metadata": {
    "colab": {
      "provenance": [],
      "authorship_tag": "ABX9TyPssYA4kvoZNQdpIV8J5Aqt",
      "include_colab_link": true
    },
    "kernelspec": {
      "name": "python3",
      "display_name": "Python 3"
    },
    "language_info": {
      "name": "python"
    }
  },
  "cells": [
    {
      "cell_type": "markdown",
      "metadata": {
        "id": "view-in-github",
        "colab_type": "text"
      },
      "source": [
        "<a href=\"https://colab.research.google.com/github/LadyNatali/Homework/blob/main/Zadanie2.ipynb\" target=\"_parent\"><img src=\"https://colab.research.google.com/assets/colab-badge.svg\" alt=\"Open In Colab\"/></a>"
      ]
    },
    {
      "cell_type": "code",
      "execution_count": null,
      "metadata": {
        "colab": {
          "base_uri": "https://localhost:8080/"
        },
        "id": "VZEYF-nFvE9Y",
        "outputId": "b08b0a1c-7bd0-4c1f-baaa-f307b1c71b0d"
      },
      "outputs": [
        {
          "output_type": "stream",
          "name": "stdout",
          "text": [
            "iv\n"
          ]
        }
      ],
      "source": [
        "word = 'privet'\n",
        "if len(word)%2==1:\n",
        "    print(word[len(word)//2])\n",
        "else:\n",
        "    print(word[len(word)//2-1:len(word)//2+1])"
      ]
    },
    {
      "cell_type": "markdown",
      "source": [
        "Задание 2\n",
        "Напишите программу, которая последовательно\n",
        "запрашивает у пользователя числа (по одному за раз) и после первого нуля выводит сумму всех ранее введенных чисел."
      ],
      "metadata": {
        "id": "LR1E_G2oRYxz"
      }
    },
    {
      "cell_type": "code",
      "source": [
        "x = int(input('введите число '))\n",
        "sum = 0\n",
        "kol = 0\n",
        "while x != 0:\n",
        "    sum += x\n",
        "    kol += 1\n",
        "    x = int(input())\n",
        "\n",
        "print(sum)"
      ],
      "metadata": {
        "colab": {
          "base_uri": "https://localhost:8080/"
        },
        "id": "SoeNl4mVRh_A",
        "outputId": "a61398e0-99fe-4aba-a7db-c06145215537"
      },
      "execution_count": 4,
      "outputs": [
        {
          "output_type": "stream",
          "name": "stdout",
          "text": [
            "введите число 7\n",
            "5\n",
            "0\n",
            "12\n"
          ]
        }
      ]
    },
    {
      "cell_type": "markdown",
      "source": [
        "Задание 3.\n",
        "Мы делаем MVP dating-сервиса, и у нас есть список парней и девушек.\n",
        "Выдвигаем гипотезу: лучшие рекомендации мы получим, если просто отсортируем имена по алфавиту и познакомим людей с одинаковыми индексами после сортировки! Но мы не будем никого знакомить, если кто-то может остаться без пары:"
      ],
      "metadata": {
        "id": "K3Gneif4Txcd"
      }
    },
    {
      "cell_type": "code",
      "source": [
        "boys = ['Peter', 'Alex', 'John', 'Arthur', 'Richard']\n",
        "girls = ['Kate', 'Liza', 'Kira', 'Emma', 'Trisha']\n",
        "res = list(zip(sorted(boys),sorted(girls)))\n",
        "for para in res:\n",
        "    print(para[0],'и',para[1])"
      ],
      "metadata": {
        "colab": {
          "base_uri": "https://localhost:8080/"
        },
        "id": "sxxhpd_fT2Mu",
        "outputId": "af24defd-24cf-4eec-987c-6aa2df1a09b0"
      },
      "execution_count": 5,
      "outputs": [
        {
          "output_type": "stream",
          "name": "stdout",
          "text": [
            "Alex и Emma\n",
            "Arthur и Kate\n",
            "John и Kira\n",
            "Peter и Liza\n",
            "Richard и Trisha\n"
          ]
        }
      ]
    },
    {
      "cell_type": "markdown",
      "source": [
        "Задание 4\n",
        "У нас есть список, содержащий информацию о среднедневной температуре в Фаренгейтах за произвольный период по странам (структура данных в примере). Необходимо написать код, который рассчитает среднюю температуру за период в Цельсиях(!) для каждой страны."
      ],
      "metadata": {
        "id": "bTrh2vF1UtN9"
      }
    },
    {
      "cell_type": "code",
      "source": [
        "countries_temperature = [['Таиланд', [75.2, 77, 78.8, 73.4, 68, 75.2, 77]],\n",
        "                         ['Германия', [57.2, 55.4, 59, 59, 53.6]],\n",
        "                         ['Россия', [35.6, 37.4, 39.2, 41, 42.8, 39.2, 35.6]],\n",
        "                         ['Польша', [50, 50, 53.6, 57.2, 55.4, 55.4]]\n",
        "                        ]\n",
        "for Country, Temperature in countries_temperature:\n",
        "    Tsum = 0\n",
        "    for T in Temperature:\n",
        "        Tsum += (T - 32)*5/9\n",
        "    print(\"средняя температура в стране\",('%10s  %5.1f' % (Country, Tsum/len(Temperature))))"
      ],
      "metadata": {
        "colab": {
          "base_uri": "https://localhost:8080/"
        },
        "id": "B7n8cO5jUvTZ",
        "outputId": "909a4ab0-984f-450a-a68b-c002f62cf326"
      },
      "execution_count": 21,
      "outputs": [
        {
          "output_type": "stream",
          "name": "stdout",
          "text": [
            "средняя температура в стране    Таиланд   23.9\n",
            "средняя температура в стране   Германия   13.8\n",
            "средняя температура в стране     Россия    3.7\n",
            "средняя температура в стране     Польша   12.0\n"
          ]
        }
      ]
    }
  ]
}