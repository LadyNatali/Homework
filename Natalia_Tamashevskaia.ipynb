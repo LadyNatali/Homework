{
  "nbformat": 4,
  "nbformat_minor": 0,
  "metadata": {
    "colab": {
      "provenance": [],
      "authorship_tag": "ABX9TyNpANG262TEiYxFhcLS+GCi",
      "include_colab_link": true
    },
    "kernelspec": {
      "name": "python3",
      "display_name": "Python 3"
    },
    "language_info": {
      "name": "python"
    }
  },
  "cells": [
    {
      "cell_type": "markdown",
      "metadata": {
        "id": "view-in-github",
        "colab_type": "text"
      },
      "source": [
        "<a href=\"https://colab.research.google.com/github/LadyNatali/Homework/blob/main/Natalia_Tamashevskaia.ipynb\" target=\"_parent\"><img src=\"https://colab.research.google.com/assets/colab-badge.svg\" alt=\"Open In Colab\"/></a>"
      ]
    },
    {
      "cell_type": "markdown",
      "source": [
        "моя первая программа\n"
      ],
      "metadata": {
        "id": "gYqcYBKu7nIe"
      }
    },
    {
      "cell_type": "code",
      "source": [
        "print (\"hello world\")"
      ],
      "metadata": {
        "colab": {
          "base_uri": "https://localhost:8080/"
        },
        "id": "AdrkaGJI7ss_",
        "outputId": "22a328db-fb32-42cd-df2a-a822132675c1"
      },
      "execution_count": 7,
      "outputs": [
        {
          "output_type": "stream",
          "name": "stdout",
          "text": [
            "hello world\n"
          ]
        }
      ]
    },
    {
      "cell_type": "markdown",
      "source": [
        "задание 1\n",
        "Даны 2 переменных, в которых хранятся строки произвольной длины: phrase_1 и phrase_2.\n",
        "Напишите код, который проверяет какая из этих строк длиннее."
      ],
      "metadata": {
        "id": "qg6kvXU79_SF"
      }
    },
    {
      "cell_type": "code",
      "source": [
        "phrase_1 = input ('введите фразу 1')\n",
        "phrase_2 = input ('введите фразу 2')\n",
        "\n",
        "if len(phrase_1) > len(phrase_2):\n",
        "    print(\"Фраза 1 длиннее фразы 2\")\n",
        "elif len(phrase_1) < len(phrase_2):\n",
        "    print(\"Фраза 2 длиннее фразы 1\")\n",
        "else:\n",
        "    print(\"Фразы равной длины\")\n",
        "\n",
        ""
      ],
      "metadata": {
        "id": "eA_AJf9d-II7"
      },
      "execution_count": null,
      "outputs": []
    },
    {
      "cell_type": "markdown",
      "source": [
        "Задание 2\n",
        "Дана переменная, в которой хранится число (год). Необходимо написать программу, которая выведет, является ли данный год високосным или обычным."
      ],
      "metadata": {
        "id": "h6mTJ2LuGVZM"
      }
    },
    {
      "cell_type": "code",
      "source": [
        "year = int(input('введите год'))\n",
        "\n",
        "if (year % 4 == 0) and (year % 100 != 0):\n",
        "    print (\"високосный год\")\n",
        "else:\n",
        "    print (\"невисокосный год\")\n",
        "\n"
      ],
      "metadata": {
        "id": "aFvY-XBfGXoy"
      },
      "execution_count": null,
      "outputs": []
    },
    {
      "cell_type": "markdown",
      "source": [
        "Задание 3\n",
        "Необходимо написать программу, которая будет запрашивать у пользователя месяц и дату рождения и выводить соответствующий знак зодиака."
      ],
      "metadata": {
        "id": "58wUiXOrIPCv"
      }
    },
    {
      "cell_type": "code",
      "source": [],
      "metadata": {
        "id": "U6yxt028ISOr"
      },
      "execution_count": null,
      "outputs": []
    }
  ]
}